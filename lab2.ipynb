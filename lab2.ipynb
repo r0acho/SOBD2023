{
 "cells": [
  {
   "cell_type": "markdown",
   "id": "fbd0e880-c58f-406d-851e-fe270b86077a",
   "metadata": {},
   "source": [
    "# 1. Инициализация PySpark фреймворка"
   ]
  },
  {
   "cell_type": "code",
   "execution_count": 1,
   "id": "7a218bba-df40-48e9-8ca3-a905d9c4079f",
   "metadata": {},
   "outputs": [],
   "source": [
    "import numpy as np\n",
    "import pandas as pd\n",
    "import os"
   ]
  },
  {
   "cell_type": "markdown",
   "id": "3aeb2067-d5e5-4100-bb60-322cd0548ba1",
   "metadata": {},
   "source": [
    "Импорт библиотек Spark SQL и Spark ML"
   ]
  },
  {
   "cell_type": "code",
   "execution_count": 2,
   "id": "a596d31e-c9ec-45b2-8b20-4e57dd33e2f6",
   "metadata": {},
   "outputs": [],
   "source": [
    "from pyspark.sql.types import *\n",
    "from pyspark.sql.functions import *\n",
    "from pyspark.sql import SparkSession\n",
    "\n",
    "from pyspark.ml import Pipeline\n",
    "from pyspark.ml.feature import VectorAssembler, StringIndexer, VectorIndexer, MinMaxScaler\n",
    "from pyspark.ml.classification import LogisticRegression\n",
    "from pyspark.ml.tuning import ParamGridBuilder, CrossValidator\n",
    "from pyspark.ml.evaluation import BinaryClassificationEvaluator, RegressionEvaluator\n",
    "from pyspark.ml.regression import RandomForestRegressor\n",
    "\n",
    "spark = SparkSession.builder.master(\"local[*]\").getOrCreate()"
   ]
  },
  {
   "cell_type": "markdown",
   "id": "148ffd5a-2aba-4a58-a1fd-4113190396d2",
   "metadata": {},
   "source": [
    "Загрузка исходных данных"
   ]
  },
  {
   "cell_type": "code",
   "execution_count": 3,
   "id": "388101ca-de34-46fe-bbf2-84a270d26df7",
   "metadata": {},
   "outputs": [
    {
     "data": {
      "text/html": [
       "<div>\n",
       "<style scoped>\n",
       "    .dataframe tbody tr th:only-of-type {\n",
       "        vertical-align: middle;\n",
       "    }\n",
       "\n",
       "    .dataframe tbody tr th {\n",
       "        vertical-align: top;\n",
       "    }\n",
       "\n",
       "    .dataframe thead th {\n",
       "        text-align: right;\n",
       "    }\n",
       "</style>\n",
       "<table border=\"1\" class=\"dataframe\">\n",
       "  <thead>\n",
       "    <tr style=\"text-align: right;\">\n",
       "      <th></th>\n",
       "      <th>timestamp</th>\n",
       "      <th>site_id</th>\n",
       "      <th>period_id</th>\n",
       "      <th>actual_consumption</th>\n",
       "      <th>actual_pv</th>\n",
       "      <th>load_00</th>\n",
       "      <th>load_19</th>\n",
       "      <th>load_38</th>\n",
       "      <th>load_57</th>\n",
       "      <th>load_76</th>\n",
       "      <th>load_95</th>\n",
       "      <th>pv_00</th>\n",
       "      <th>pv_19</th>\n",
       "      <th>pv_38</th>\n",
       "      <th>pv_57</th>\n",
       "      <th>pv_76</th>\n",
       "      <th>pv_95</th>\n",
       "    </tr>\n",
       "  </thead>\n",
       "  <tbody>\n",
       "    <tr>\n",
       "      <th>0</th>\n",
       "      <td>2014-07-26 00:00:00</td>\n",
       "      <td>1</td>\n",
       "      <td>1</td>\n",
       "      <td>52.791303</td>\n",
       "      <td>0.0</td>\n",
       "      <td>53.083976</td>\n",
       "      <td>54.697004</td>\n",
       "      <td>53.738351</td>\n",
       "      <td>53.721872</td>\n",
       "      <td>54.154559</td>\n",
       "      <td>53.833967</td>\n",
       "      <td>0.170069</td>\n",
       "      <td>1.033124</td>\n",
       "      <td>56.012696</td>\n",
       "      <td>87.486744</td>\n",
       "      <td>9.815387</td>\n",
       "      <td>1.246214</td>\n",
       "    </tr>\n",
       "    <tr>\n",
       "      <th>1</th>\n",
       "      <td>2014-07-26 00:45:00</td>\n",
       "      <td>1</td>\n",
       "      <td>1</td>\n",
       "      <td>53.279074</td>\n",
       "      <td>0.0</td>\n",
       "      <td>53.270727</td>\n",
       "      <td>54.142639</td>\n",
       "      <td>53.746133</td>\n",
       "      <td>53.670674</td>\n",
       "      <td>54.898471</td>\n",
       "      <td>54.097770</td>\n",
       "      <td>0.170069</td>\n",
       "      <td>1.033124</td>\n",
       "      <td>67.235425</td>\n",
       "      <td>43.068871</td>\n",
       "      <td>2.825965</td>\n",
       "      <td>1.246214</td>\n",
       "    </tr>\n",
       "    <tr>\n",
       "      <th>2</th>\n",
       "      <td>2014-07-27 00:00:00</td>\n",
       "      <td>1</td>\n",
       "      <td>1</td>\n",
       "      <td>53.851506</td>\n",
       "      <td>0.0</td>\n",
       "      <td>53.913683</td>\n",
       "      <td>53.495005</td>\n",
       "      <td>54.775921</td>\n",
       "      <td>54.127523</td>\n",
       "      <td>54.686806</td>\n",
       "      <td>54.167568</td>\n",
       "      <td>0.170069</td>\n",
       "      <td>1.033124</td>\n",
       "      <td>60.532578</td>\n",
       "      <td>65.293437</td>\n",
       "      <td>6.004561</td>\n",
       "      <td>1.246214</td>\n",
       "    </tr>\n",
       "    <tr>\n",
       "      <th>3</th>\n",
       "      <td>2014-07-27 23:00:00</td>\n",
       "      <td>1</td>\n",
       "      <td>1</td>\n",
       "      <td>53.677345</td>\n",
       "      <td>0.0</td>\n",
       "      <td>53.761261</td>\n",
       "      <td>54.739164</td>\n",
       "      <td>85.821453</td>\n",
       "      <td>89.562035</td>\n",
       "      <td>80.436553</td>\n",
       "      <td>54.546472</td>\n",
       "      <td>0.170069</td>\n",
       "      <td>1.033124</td>\n",
       "      <td>33.672274</td>\n",
       "      <td>77.220921</td>\n",
       "      <td>12.140466</td>\n",
       "      <td>1.246214</td>\n",
       "    </tr>\n",
       "    <tr>\n",
       "      <th>4</th>\n",
       "      <td>2014-07-27 23:30:00</td>\n",
       "      <td>1</td>\n",
       "      <td>1</td>\n",
       "      <td>54.530195</td>\n",
       "      <td>0.0</td>\n",
       "      <td>54.018036</td>\n",
       "      <td>54.862038</td>\n",
       "      <td>91.571323</td>\n",
       "      <td>89.542650</td>\n",
       "      <td>80.405592</td>\n",
       "      <td>54.550434</td>\n",
       "      <td>0.170069</td>\n",
       "      <td>1.033124</td>\n",
       "      <td>38.496298</td>\n",
       "      <td>76.540738</td>\n",
       "      <td>6.389259</td>\n",
       "      <td>1.246214</td>\n",
       "    </tr>\n",
       "  </tbody>\n",
       "</table>\n",
       "</div>"
      ],
      "text/plain": [
       "            timestamp  site_id  period_id  actual_consumption  actual_pv  \\\n",
       "0 2014-07-26 00:00:00        1          1           52.791303        0.0   \n",
       "1 2014-07-26 00:45:00        1          1           53.279074        0.0   \n",
       "2 2014-07-27 00:00:00        1          1           53.851506        0.0   \n",
       "3 2014-07-27 23:00:00        1          1           53.677345        0.0   \n",
       "4 2014-07-27 23:30:00        1          1           54.530195        0.0   \n",
       "\n",
       "     load_00    load_19    load_38    load_57    load_76    load_95     pv_00  \\\n",
       "0  53.083976  54.697004  53.738351  53.721872  54.154559  53.833967  0.170069   \n",
       "1  53.270727  54.142639  53.746133  53.670674  54.898471  54.097770  0.170069   \n",
       "2  53.913683  53.495005  54.775921  54.127523  54.686806  54.167568  0.170069   \n",
       "3  53.761261  54.739164  85.821453  89.562035  80.436553  54.546472  0.170069   \n",
       "4  54.018036  54.862038  91.571323  89.542650  80.405592  54.550434  0.170069   \n",
       "\n",
       "      pv_19      pv_38      pv_57      pv_76     pv_95  \n",
       "0  1.033124  56.012696  87.486744   9.815387  1.246214  \n",
       "1  1.033124  67.235425  43.068871   2.825965  1.246214  \n",
       "2  1.033124  60.532578  65.293437   6.004561  1.246214  \n",
       "3  1.033124  33.672274  77.220921  12.140466  1.246214  \n",
       "4  1.033124  38.496298  76.540738   6.389259  1.246214  "
      ]
     },
     "execution_count": 3,
     "metadata": {},
     "output_type": "execute_result"
    }
   ],
   "source": [
    "dataframe = spark.read.csv('filtered_data/filtered_data.csv', inferSchema=True, header=True, sep=';')\n",
    "dataframe.limit(5).toPandas()"
   ]
  },
  {
   "cell_type": "markdown",
   "id": "23c1a980-5c21-43e5-8696-3968562ac82d",
   "metadata": {},
   "source": [
    "##### 2. Подготовка данных\n",
    "\n",
    "Выберем подмножество столбцов для использования в качестве признаков и создадим логическое поле метки с именем label со значениями 1 или 0. В частности, *1* для показателей нагрузок более 120 в *load_95* и *0* для нагрузок менее 120."
   ]
  },
  {
   "cell_type": "code",
   "execution_count": 4,
   "id": "416a5825-10a5-4183-959f-793f9c22cb9c",
   "metadata": {},
   "outputs": [
    {
     "name": "stdout",
     "output_type": "stream",
     "text": [
      "+-----------+-------+---------+------------------+---------+------------------+-----+\n",
      "|  timestamp|site_id|period_id|actual_consumption|actual_pv|           load_00|label|\n",
      "+-----------+-------+---------+------------------+---------+------------------+-----+\n",
      "|1.4063328E9|      1|        1|52.791302965157286|      0.0| 53.08397592004902|    1|\n",
      "|1.4063355E9|      1|        1|53.279074149918486|      0.0|53.270726785432736|    1|\n",
      "|1.4064192E9|      1|        1| 53.85150644791569|      0.0| 53.91368322423372|    1|\n",
      "| 1.406502E9|      1|        1|53.677345300942264|      0.0|53.761260685969894|    1|\n",
      "|1.4065038E9|      1|        1| 54.53019504155204|      0.0| 54.01803649121244|    1|\n",
      "|1.4065056E9|      1|        2|54.009711154557934|      0.0| 54.43423188305628|    1|\n",
      "|1.4065074E9|      1|        2| 53.56197103939957|      0.0| 53.60636743071373|    1|\n",
      "|1.4065092E9|      1|        2| 53.66302849483053|      0.0| 53.43418449452174|    1|\n",
      "|1.4069376E9|      1|        2| 54.27777135390649|      0.0|54.273410103209834|    1|\n",
      "|1.4069412E9|      1|        2|53.484788257847626|      0.0| 54.50794903678978|    1|\n",
      "+-----------+-------+---------+------------------+---------+------------------+-----+\n",
      "only showing top 10 rows\n",
      "\n"
     ]
    }
   ],
   "source": [
    "data = dataframe.select(\n",
    "    \"timestamp\", \n",
    "    \"site_id\", \n",
    "    \"period_id\", \n",
    "    \"actual_consumption\", \n",
    "    \"actual_pv\", \n",
    "    \"load_00\", \n",
    "    ((col(\"load_95\") > 5).cast(\"Int\").alias(\"label\"))).withColumn(\"timestamp\", unix_timestamp(\"timestamp\").cast(DoubleType()))\n",
    "data.show(10)"
   ]
  },
  {
   "cell_type": "markdown",
   "id": "41eb2408-34a3-44a9-8be4-d6c6d4d63bf8",
   "metadata": {},
   "source": [
    "## Разделим данные\r\n",
    "\n",
    "Используем 70% данных для обучения, а 30% оставим для тестирования. В данных тестирования столбе ц*binary_load_00l переименован в* trueLablel, поэтому можно использовать его позже для сравнения прогнозируемых меток с известными фактическими значениями."
   ]
  },
  {
   "cell_type": "code",
   "execution_count": 5,
   "id": "541b8af7-07a3-49af-b0de-ea133bdb467f",
   "metadata": {},
   "outputs": [
    {
     "name": "stdout",
     "output_type": "stream",
     "text": [
      "Training Rows: 178564  Testing Rows: 76255\n"
     ]
    }
   ],
   "source": [
    "splits = data.randomSplit([0.7, 0.3])\n",
    "train = splits[0]\n",
    "test = splits[1].withColumnRenamed(\"label\", \"trueLabel\")\n",
    "train_rows = train.count()\n",
    "test_rows = test.count()\n",
    "print(\"Training Rows:\", train_rows, \" Testing Rows:\", test_rows)"
   ]
  },
  {
   "cell_type": "markdown",
   "id": "34ccb369-2b5b-4607-b683-ac9f8b5d6052",
   "metadata": {},
   "source": [
    "## Вычисление отношения между классами"
   ]
  },
  {
   "cell_type": "code",
   "execution_count": 6,
   "id": "806a17ec-6286-4133-8ad3-768f27c8f4f3",
   "metadata": {},
   "outputs": [
    {
     "name": "stdout",
     "output_type": "stream",
     "text": [
      "Positive to Negative Class Ratio: 1.0297509996654506\n"
     ]
    }
   ],
   "source": [
    "positive_count = data.filter(col(\"label\") == 1).count()\n",
    "negative_count = data.filter(col(\"label\") == 0).count()\n",
    "balance_ratio = positive_count / negative_count\n",
    "print(\"Positive to Negative Class Ratio:\", balance_ratio)"
   ]
  },
  {
   "cell_type": "markdown",
   "id": "13291e39-be0d-491b-a3f1-771826962f8f",
   "metadata": {},
   "source": [
    "Если balance_ratio близко к 1, это свидетельствует о балансе. Если значительно больше или меньше 1, это может указывать на дисбаланс."
   ]
  },
  {
   "cell_type": "markdown",
   "id": "d56c7e6e-1264-4867-919d-c27db284bca7",
   "metadata": {},
   "source": [
    "Задача регрессии (Случайный лес)"
   ]
  },
  {
   "cell_type": "code",
   "execution_count": 7,
   "id": "8bfa5e81-19a2-4670-92bf-9df17c5fd041",
   "metadata": {},
   "outputs": [
    {
     "name": "stdout",
     "output_type": "stream",
     "text": [
      "+---------------------------------------------------------------------+-----------------+------------------+\n",
      "|reg_features                                                         |prediction       |load_00           |\n",
      "+---------------------------------------------------------------------+-----------------+------------------+\n",
      "|[1.3579614E9,13.0,0.0,5.580898705869913,0.0,0.023718226046800996,0.0]|7.641006302523164|6.5605630823838155|\n",
      "|[1.3579623E9,13.0,0.0,7.4411982744932175,0.0,0.0318380397777904,0.0] |8.06078795352457 |7.10327551657503  |\n",
      "|[1.358019E9,13.0,0.0,7.4411982744932175,0.0,0.0318380397777904,0.0]  |8.06078795352457 |7.178341268091895 |\n",
      "|[1.3580325E9,13.0,0.0,7.4411982744932175,0.0,0.0318380397777904,0.0] |8.06078795352457 |7.652302695032091 |\n",
      "|[1.3580334E9,13.0,0.0,7.4411982744932175,0.0,0.0318380397777904,0.0] |8.06078795352457 |7.696045778793563 |\n",
      "|[1.3580379E9,13.0,0.0,7.4411982744932175,0.0,0.0318380397777904,0.0] |8.06078795352457 |7.399507696792104 |\n",
      "|[1.3580577E9,13.0,0.0,6.511048490181565,0.0,0.0277781329122957,0.0]  |7.82363916152841 |7.118426545369812 |\n",
      "|[1.358109E9,13.0,0.0,7.4411982744932175,0.0,0.0318380397777904,0.0]  |8.06078795352457 |7.442260850010887 |\n",
      "|[1.3581099E9,13.0,0.0,5.580898705869913,0.0,0.023718226046800996,0.0]|7.641006302523164|6.501287321000662 |\n",
      "|[1.3581108E9,13.0,0.0,7.4411982744932175,0.0,0.0318380397777904,0.0] |8.06078795352457 |7.023660082215666 |\n",
      "+---------------------------------------------------------------------+-----------------+------------------+\n",
      "only showing top 10 rows\n",
      "\n"
     ]
    }
   ],
   "source": [
    "# Создание столбца признаков для задачи регрессии\n",
    "catVect = VectorAssembler(inputCols=[\"timestamp\", \"site_id\", \"period_id\"], outputCol=\"reg_catFeatures\")\n",
    "catIdx = VectorIndexer(inputCol=catVect.getOutputCol(), outputCol=\"reg_idxCatFeatures\")\n",
    "numVect = VectorAssembler(inputCols=[\"actual_consumption\", \"actual_pv\"], outputCol=\"reg_numFeatures\")\n",
    "minMax = MinMaxScaler(inputCol=numVect.getOutputCol(), outputCol='reg_normFeatures')\n",
    "featVect = VectorAssembler(inputCols=[\"reg_idxCatFeatures\", \"reg_numFeatures\", \"reg_normFeatures\"], outputCol=\"reg_features\")\n",
    "\n",
    "# Создание модели RandomForestRegressor\n",
    "rf = RandomForestRegressor(labelCol=\"load_00\", featuresCol=\"reg_features\", numTrees=10)\n",
    "\n",
    "# Создание и выполнение пайплайна для задачи регрессии\n",
    "reg_pipeline = Pipeline(stages=[catVect, catIdx, numVect, minMax, featVect, rf])\n",
    "reg_model = reg_pipeline.fit(train)\n",
    "reg_prediction = reg_model.transform(test)\n",
    "\n",
    "# Вывод результатов\n",
    "reg_prediction.select(\"reg_features\", \"prediction\", \"load_00\").show(10, truncate=False)"
   ]
  },
  {
   "cell_type": "code",
   "execution_count": 8,
   "id": "b6ddf74c-f0e5-4bf7-86ba-4bff1b38295a",
   "metadata": {},
   "outputs": [
    {
     "name": "stdout",
     "output_type": "stream",
     "text": [
      "RMSE =  2.54711469272741\n"
     ]
    }
   ],
   "source": [
    "# Расчет метрик для задачи регрессии\n",
    "reg_evaluator = RegressionEvaluator(labelCol=\"load_00\", predictionCol=\"prediction\", metricName=\"rmse\")\n",
    "rmse = reg_evaluator.evaluate(reg_prediction)\n",
    "print(\"RMSE = \", rmse)"
   ]
  },
  {
   "cell_type": "code",
   "execution_count": 9,
   "id": "b1e31cec-dabb-445f-82f5-645a237ac28f",
   "metadata": {},
   "outputs": [
    {
     "name": "stdout",
     "output_type": "stream",
     "text": [
      "R² =  0.9720313765480223\n"
     ]
    }
   ],
   "source": [
    "# Расчет метрик для задачи регрессии\n",
    "reg_evaluator = RegressionEvaluator(labelCol=\"load_00\", predictionCol=\"prediction\", metricName=\"r2\")\n",
    "r2 = reg_evaluator.evaluate(reg_prediction)\n",
    "print(\"R² = \", r2)"
   ]
  },
  {
   "cell_type": "markdown",
   "id": "8908271a-20c3-4c49-948d-8ab4e34c17f4",
   "metadata": {},
   "source": [
    "CrossValidator разделяет обучающий набор данных на заданное количество складок (фолдов), обучает модель на части данных и оценивает ее на оставшихся данных. Этот процесс повторяется для каждой комбинации гиперпараметров, и выбирается модель с наилучшей средней производительностью на всех фолдах."
   ]
  },
  {
   "cell_type": "code",
   "execution_count": 10,
   "id": "c9471a82-8936-465c-a0e8-6d364ad2aefe",
   "metadata": {},
   "outputs": [],
   "source": [
    "# param_grid = ParamGridBuilder() \\\n",
    "#     .addGrid(rf.maxDepth, [5, 10, 15]) \\\n",
    "#     .addGrid(rf.numTrees, [10, 25, 50]) \\\n",
    "#     .addGrid(rf.minInstancesPerNode, [1, 2, 4]) \\\n",
    "#     .build()\n",
    "\n",
    "# rf_cv = CrossValidator(\n",
    "#     estimator=reg_pipeline, \n",
    "#     evaluator=RegressionEvaluator(), \n",
    "#     estimatorParamMaps=param_grid, \n",
    "#     numFolds=2\n",
    "# )\n",
    "\n",
    "# model = rf_cv.fit(train)"
   ]
  },
  {
   "cell_type": "code",
   "execution_count": 11,
   "id": "99ee3513-d7aa-40a7-8bc0-e8a9e5925f2f",
   "metadata": {},
   "outputs": [
    {
     "name": "stdout",
     "output_type": "stream",
     "text": [
      "RMSE =  2.54711469272741\n"
     ]
    }
   ],
   "source": [
    "reg_evaluator = RegressionEvaluator(labelCol=\"load_00\", predictionCol=\"prediction\", metricName=\"rmse\")\n",
    "rmse = reg_evaluator.evaluate(reg_prediction)\n",
    "print(\"RMSE = \", rmse)"
   ]
  },
  {
   "cell_type": "markdown",
   "id": "9c39a6a0-0514-454d-ad98-16a83438caf4",
   "metadata": {},
   "source": [
    "Задача бинарной классификации (логистическая регрессия)"
   ]
  },
  {
   "cell_type": "code",
   "execution_count": 12,
   "id": "bb345543-fbb5-4701-9d72-c745ab26edc0",
   "metadata": {},
   "outputs": [],
   "source": [
    "catVect = VectorAssembler(inputCols = [\"timestamp\", \"site_id\", \"period_id\"], outputCol=\"catFeatures\")\n",
    "catIdx = VectorIndexer(inputCol = catVect.getOutputCol(), outputCol = \"idxCatFeatures\")\n",
    "numVect = VectorAssembler(inputCols = [\"actual_consumption\", \"actual_pv\"], outputCol=\"numFeatures\")\n",
    "minMax = MinMaxScaler(inputCol = numVect.getOutputCol(), outputCol=\"normFeatures\")\n",
    "featVect = VectorAssembler(inputCols=[\"idxCatFeatures\", \"normFeatures\"], outputCol=\"features\")\n",
    "lr = LogisticRegression(labelCol=\"label\",featuresCol=\"features\",maxIter=10,regParam=0.3)\n",
    "pipeline = Pipeline(stages=[catVect, catIdx, numVect, minMax, featVect, lr])"
   ]
  },
  {
   "cell_type": "code",
   "execution_count": 13,
   "id": "2488e6b2-814c-4e5f-b8f0-2d6d86b9c22f",
   "metadata": {},
   "outputs": [],
   "source": [
    "pipelineModel = pipeline.fit(train)"
   ]
  },
  {
   "cell_type": "code",
   "execution_count": 14,
   "id": "af38fe7d-c162-4d07-9ed0-a7a0e2cc3194",
   "metadata": {},
   "outputs": [
    {
     "name": "stdout",
     "output_type": "stream",
     "text": [
      "+-----------------------------------------------------------------+----------+---------+\n",
      "|features                                                         |prediction|trueLabel|\n",
      "+-----------------------------------------------------------------+----------+---------+\n",
      "|[1.3579614E9,13.0,0.0,0.023718226046800996,0.0]                  |1.0       |1        |\n",
      "|[1.3579623E9,13.0,0.0,0.0318380397777904,0.0]                    |1.0       |1        |\n",
      "|[1.358019E9,13.0,0.0,0.0318380397777904,0.0]                     |1.0       |1        |\n",
      "|[1.3580325E9,13.0,0.0,0.0318380397777904,0.0]                    |1.0       |1        |\n",
      "|[1.3580334E9,13.0,0.0,0.0318380397777904,0.0]                    |1.0       |1        |\n",
      "|[1.3580379E9,13.0,0.0,0.0318380397777904,0.0]                    |1.0       |1        |\n",
      "|[1.3580577E9,13.0,0.0,0.0277781329122957,0.0]                    |1.0       |1        |\n",
      "|[1.358109E9,13.0,0.0,0.0318380397777904,0.0]                     |1.0       |1        |\n",
      "|[1.3581099E9,13.0,0.0,0.023718226046800996,0.0]                  |1.0       |1        |\n",
      "|[1.3581108E9,13.0,0.0,0.0318380397777904,0.0]                    |1.0       |1        |\n",
      "|[1.3581153E9,13.0,0.0,0.0318380397777904,0.0]                    |1.0       |1        |\n",
      "|[1.3581306E9,13.0,1.0,0.0318380397777904,0.0]                    |1.0       |1        |\n",
      "|[1.3582008E9,13.0,1.0,0.0318380397777904,0.0]                    |1.0       |1        |\n",
      "|[1.3582062E9,13.0,1.0,0.0318380397777904,0.0]                    |1.0       |1        |\n",
      "|[1.3582098E9,13.0,1.0,0.0318380397777904,0.0]                    |1.0       |1        |\n",
      "|[1.3582701E9,13.0,1.0,0.09679654962570562,0.052789847609854876]  |1.0       |1        |\n",
      "|[1.3582773E9,13.0,1.0,0.07243710843273743,0.0]                   |1.0       |1        |\n",
      "|[1.3583142E9,13.0,1.0,0.0318380397777904,0.0]                    |1.0       |1        |\n",
      "|[1.3583574E9,13.0,1.0,0.09679654962570562,0.01666838799403736]   |1.0       |1        |\n",
      "|[1.3583943E9,13.0,1.0,0.023718226046800996,0.0]                  |1.0       |1        |\n",
      "|[1.358451E9,13.0,1.0,0.06431729470174802,0.0]                    |1.0       |1        |\n",
      "|[1.3584573E9,13.0,1.0,0.05619748097075862,0.0]                   |1.0       |1        |\n",
      "|[1.3584834E9,13.0,1.0,0.023718226046800996,0.0]                  |1.0       |1        |\n",
      "|[1.3584861E9,13.0,1.0,0.0318380397777904,0.0]                    |1.0       |1        |\n",
      "|[1.3584915E9,13.0,1.0,0.06431729470174802,0.0]                   |1.0       |1        |\n",
      "|[1.3585365E9,13.0,1.0,0.08867673589471622,0.0]                   |1.0       |1        |\n",
      "|[1.3585428E9,13.0,1.0,0.039957853508779805,0.0]                  |1.0       |1        |\n",
      "|[1.3585473E9,13.0,1.0,0.0318380397777904,0.0]                    |1.0       |1        |\n",
      "|[1.3585563E9,13.0,1.0,0.039957853508779805,0.0]                  |1.0       |1        |\n",
      "|[1.3585734E9,13.0,1.0,0.023718226046800996,0.0]                  |1.0       |1        |\n",
      "|[1.3586229E9,13.0,1.0,0.0318380397777904,0.0]                    |1.0       |1        |\n",
      "|[1.3586328E9,13.0,1.0,0.0318380397777904,0.0]                    |1.0       |1        |\n",
      "|[1.3586481E9,13.0,1.0,0.0318380397777904,0.0]                    |1.0       |1        |\n",
      "|[1.3586634E9,13.0,1.0,0.0318380397777904,0.0]                    |1.0       |1        |\n",
      "|[1.3587066E9,13.0,1.0,0.0318380397777904,0.0]                    |1.0       |1        |\n",
      "|[1.3587201E9,13.0,1.0,0.0318380397777904,0.0]                    |1.0       |1        |\n",
      "|[1.3587246E9,13.0,1.0,0.023718226046800996,0.0]                  |1.0       |1        |\n",
      "|[1.3587426E9,13.0,2.0,0.039957853508779805,0.0]                  |1.0       |1        |\n",
      "|[1.3587435E9,13.0,2.0,0.048077667239769216,0.0]                  |1.0       |1        |\n",
      "|[1.358802E9,13.0,2.0,0.05619748097075862,0.0]                    |1.0       |1        |\n",
      "|[1.3588227E9,13.0,2.0,0.039957853508779805,0.0]                  |1.0       |1        |\n",
      "|[1.3588236E9,13.0,2.0,0.0318380397777904,0.0]                    |1.0       |1        |\n",
      "|[1.3588245E9,13.0,2.0,0.039957853508779805,0.0]                  |1.0       |1        |\n",
      "|[1.3588335E9,13.0,2.0,0.05619748097075862,0.0]                   |1.0       |1        |\n",
      "|[1.3588344E9,13.0,2.0,0.07243710843273743,0.0]                   |1.0       |1        |\n",
      "|[1.3588353E9,13.0,2.0,0.05619748097075862,0.0]                   |1.0       |1        |\n",
      "|[1.3588389E9,13.0,2.0,0.08867673589471622,0.0]                   |1.0       |1        |\n",
      "|[1.3588407E9,13.0,2.0,0.12927580454966325,0.027136752699587537]  |1.0       |1        |\n",
      "|[1.3588434E9,13.0,2.0,0.12927580454966325,0.26070690179405126]   |0.0       |1        |\n",
      "|[1.3588803E9,13.0,2.0,0.12115599081867387,0.0]                   |1.0       |1        |\n",
      "|[1.3588884E9,13.0,2.0,0.039957853508779805,0.0]                  |1.0       |1        |\n",
      "|[1.3588965E9,13.0,2.0,0.0277781329122957,0.0]                    |1.0       |1        |\n",
      "|[1.3589001E9,13.0,2.0,0.0318380397777904,0.0]                    |1.0       |1        |\n",
      "|[1.3589037E9,13.0,2.0,0.023718226046800996,0.0]                  |1.0       |1        |\n",
      "|[1.3589073E9,13.0,2.0,0.023718226046800996,0.0]                  |1.0       |1        |\n",
      "|[1.3589091E9,13.0,2.0,0.0318380397777904,0.0]                    |1.0       |1        |\n",
      "|[1.35891E9,13.0,2.0,0.023718226046800996,0.0]                    |1.0       |1        |\n",
      "|[1.3589694E9,13.0,2.0,0.07243710843273743,0.0]                   |1.0       |1        |\n",
      "|[1.3589748E9,13.0,2.0,0.06431729470174802,0.0]                   |1.0       |1        |\n",
      "|[1.3589838E9,13.0,2.0,0.048077667239769216,0.0]                  |1.0       |1        |\n",
      "|[1.3589946E9,13.0,2.0,0.039957853508779805,0.0]                  |1.0       |1        |\n",
      "|[1.3589982E9,13.0,2.0,0.0318380397777904,0.0]                    |1.0       |1        |\n",
      "|[1.3589991E9,13.0,2.0,0.039957853508779805,0.0]                  |1.0       |1        |\n",
      "|[1.3590018E9,13.0,2.0,0.048077667239769216,0.0]                  |1.0       |1        |\n",
      "|[1.3590036E9,13.0,2.0,0.05619748097075862,0.0]                   |1.0       |1        |\n",
      "|[1.359009E9,13.0,2.0,0.07243710843273743,0.0]                    |1.0       |1        |\n",
      "|[1.3590531E9,13.0,2.0,0.13739561828065264,0.0]                   |1.0       |1        |\n",
      "|[1.3590666E9,13.0,2.0,0.039957853508779805,0.0]                  |1.0       |1        |\n",
      "|[1.3590675E9,13.0,2.0,0.039957853508779805,0.0]                  |1.0       |1        |\n",
      "|[1.3590909E9,13.0,2.0,0.039957853508779805,0.0]                  |1.0       |1        |\n",
      "|[1.3591395E9,13.0,2.0,0.11303617708768444,0.0]                   |1.0       |1        |\n",
      "|[1.3591539E9,13.0,2.0,0.039957853508779805,0.0]                  |1.0       |1        |\n",
      "|[1.3591593E9,13.0,2.0,0.0318380397777904,0.0]                    |1.0       |1        |\n",
      "|[1.3591611E9,13.0,2.0,0.0318380397777904,0.0]                    |1.0       |1        |\n",
      "|[1.3591647E9,13.0,2.0,0.0318380397777904,0.0]                    |1.0       |1        |\n",
      "|[1.3591701E9,13.0,2.0,0.023718226046800996,0.0]                  |1.0       |1        |\n",
      "|[1.3591737E9,13.0,2.0,0.0318380397777904,0.0]                    |1.0       |1        |\n",
      "|[1.3591854E9,13.0,2.0,0.048077667239769216,0.0016276645654118929]|1.0       |1        |\n",
      "|[1.3592322E9,13.0,2.0,0.0318380397777904,0.0]                    |1.0       |1        |\n",
      "|[1.3592412E9,13.0,2.0,0.0318380397777904,0.0]                    |1.0       |1        |\n",
      "|[1.3592502E9,13.0,2.0,0.0318380397777904,0.0]                    |1.0       |1        |\n",
      "|[1.3592574E9,13.0,2.0,0.0318380397777904,0.0]                    |1.0       |1        |\n",
      "|[1.3592583E9,13.0,2.0,0.0318380397777904,0.0]                    |1.0       |1        |\n",
      "|[1.35927E9,13.0,2.0,0.0318380397777904,0.0]                      |1.0       |1        |\n",
      "|[1.3593258E9,13.0,2.0,0.0318380397777904,0.0]                    |1.0       |1        |\n",
      "|[1.3593492E9,13.0,3.0,0.039957853508779805,0.0]                  |1.0       |1        |\n",
      "|[1.3593519E9,13.0,3.0,0.07243710843273743,0.0]                   |1.0       |1        |\n",
      "|[1.3594185E9,13.0,3.0,0.0318380397777904,0.0]                    |1.0       |1        |\n",
      "|[1.3594275E9,13.0,3.0,0.0318380397777904,0.0]                    |1.0       |1        |\n",
      "|[1.3594356E9,13.0,3.0,0.039957853508779805,0.0]                  |1.0       |1        |\n",
      "|[1.3594374E9,13.0,3.0,0.0318380397777904,0.0]                    |1.0       |1        |\n",
      "|[1.3594401E9,13.0,3.0,0.048077667239769216,0.0]                  |1.0       |1        |\n",
      "|[1.359441E9,13.0,3.0,0.048077667239769216,0.0]                   |1.0       |1        |\n",
      "|[1.3594446E9,13.0,3.0,0.09679654962570562,0.009892201326077342]  |1.0       |1        |\n",
      "|[1.3594923E9,13.0,3.0,0.039957853508779805,0.0]                  |1.0       |1        |\n",
      "|[1.3595022E9,13.0,3.0,0.0318380397777904,0.0]                    |1.0       |1        |\n",
      "|[1.3595157E9,13.0,3.0,0.0318380397777904,0.0]                    |1.0       |1        |\n",
      "|[1.359576E9,13.0,3.0,0.048077667239769216,0.0]                   |1.0       |1        |\n",
      "|[1.3595814E9,13.0,3.0,0.0318380397777904,0.0]                    |1.0       |1        |\n",
      "|[1.359585E9,13.0,3.0,0.0318380397777904,0.0]                     |1.0       |1        |\n",
      "+-----------------------------------------------------------------+----------+---------+\n",
      "only showing top 100 rows\n",
      "\n"
     ]
    }
   ],
   "source": [
    "prediction = pipelineModel.transform(test)\n",
    "predicted = prediction.select(\"features\", \"prediction\", \"trueLabel\")\n",
    "predicted.show(100, truncate=False)"
   ]
  },
  {
   "cell_type": "code",
   "execution_count": 15,
   "id": "ddf9133f-7b75-40cd-8860-d26bc32b54df",
   "metadata": {},
   "outputs": [
    {
     "name": "stdout",
     "output_type": "stream",
     "text": [
      "+---------+------------------+\n",
      "|   metric|             value|\n",
      "+---------+------------------+\n",
      "|       TP|           31550.0|\n",
      "|       FP|             266.0|\n",
      "|       TN|           37439.0|\n",
      "|       FN|            7000.0|\n",
      "|Precision|0.9916394267035454|\n",
      "|   Recall|0.8184176394293126|\n",
      "|       F1| 0.896739902793963|\n",
      "+---------+------------------+\n",
      "\n"
     ]
    }
   ],
   "source": [
    "tp = float(predicted.filter(\"prediction == 1.0 AND truelabel == 1\").count())\n",
    "fp = float(predicted.filter(\"prediction == 1.0 AND truelabel == 0\").count())\n",
    "tn = float(predicted.filter(\"prediction == 0.0 AND truelabel == 0\").count())\n",
    "fn = float(predicted.filter(\"prediction == 0.0 AND truelabel == 1\").count())\n",
    "pr = tp / (tp + fp)\n",
    "re = tp / (tp + fn)\n",
    "metrics = spark.createDataFrame([\n",
    " (\"TP\", tp),\n",
    " (\"FP\", fp),\n",
    " (\"TN\", tn),\n",
    " (\"FN\", fn),\n",
    " (\"Precision\", pr),\n",
    " (\"Recall\", re),\n",
    " (\"F1\", 2*pr*re/(re+pr))],[\"metric\", \"value\"])\n",
    "metrics.show()"
   ]
  },
  {
   "cell_type": "code",
   "execution_count": 16,
   "id": "3198ba14-3d02-4061-9d84-f890d8ae5956",
   "metadata": {},
   "outputs": [
    {
     "name": "stdout",
     "output_type": "stream",
     "text": [
      "AUR =  0.9634936333344856\n"
     ]
    }
   ],
   "source": [
    "evaluator = BinaryClassificationEvaluator(labelCol=\"trueLabel\", rawPredictionCol=\"rawPrediction\", metricName=\"areaUnderROC\")\n",
    "aur = evaluator.evaluate(prediction)\n",
    "print (\"AUR = \", aur)"
   ]
  },
  {
   "cell_type": "code",
   "execution_count": null,
   "id": "91f56caf-bb89-4615-a4cc-0453d985cd63",
   "metadata": {},
   "outputs": [],
   "source": [
    "paramGrid = ParamGridBuilder().addGrid(lr.regParam, [0.3, 0.1]).addGrid(lr.maxIter, [10, 5]).addGrid(lr.threshold, \n",
    "                                                                                            [0.4, 0.3]).build()\n",
    "cv = CrossValidator(estimator=pipeline, evaluator=BinaryClassificationEvaluator(), estimatorParamMaps=paramGrid, \n",
    "                    numFolds=2)\n",
    "\n",
    "model = cv.fit(train)"
   ]
  },
  {
   "cell_type": "code",
   "execution_count": null,
   "id": "a839dd29-774a-4f80-847b-9d14ed45dfbb",
   "metadata": {},
   "outputs": [],
   "source": [
    "newPrediction = model.transform(test)\n",
    "newPredicted = prediction.select(\"features\", \"prediction\", \"trueLabel\")\n",
    "newPredicted.show()"
   ]
  },
  {
   "cell_type": "code",
   "execution_count": null,
   "id": "87320a7f-32b8-492e-bc9d-c5f44e329c32",
   "metadata": {},
   "outputs": [],
   "source": [
    "# Recalculate confusion matrix\n",
    "tp2 = float(newPrediction.filter(\"prediction == 1.0 AND truelabel == 1\").count())\n",
    "fp2 = float(newPrediction.filter(\"prediction == 1.0 AND truelabel == 0\").count())\n",
    "tn2 = float(newPrediction.filter(\"prediction == 0.0 AND truelabel == 0\").count())\n",
    "fn2 = float(newPrediction.filter(\"prediction == 0.0 AND truelabel == 1\").count())\n",
    "pr2 = tp2 / (tp2 + fp2)\n",
    "re2 = tp2 / (tp2 + fn2)\n",
    "metrics2 = spark.createDataFrame([\n",
    " (\"TP\", tp2),\n",
    " (\"FP\", fp2),\n",
    " (\"TN\", tn2),\n",
    " (\"FN\", fn2),\n",
    " (\"Precision\", pr2),\n",
    " (\"Recall\", re2),\n",
    " (\"F1\", 2*pr2*re2/(re2+pr2))],[\"metric\", \"value\"])\n",
    "metrics2.show()"
   ]
  },
  {
   "cell_type": "code",
   "execution_count": null,
   "id": "73d96370-5aab-4b61-a315-a796137471e1",
   "metadata": {},
   "outputs": [],
   "source": [
    "# Recalculate the Area Under ROC\n",
    "evaluator2 = BinaryClassificationEvaluator(labelCol=\"trueLabel\", rawPredictionCol=\"prediction\", metricName=\"areaUnderROC\")\n",
    "aur2 = evaluator.evaluate(prediction)\n",
    "print(\"AUR2 = \", aur2)"
   ]
  }
 ],
 "metadata": {
  "kernelspec": {
   "display_name": "Python 3 (ipykernel)",
   "language": "python",
   "name": "python3"
  },
  "language_info": {
   "codemirror_mode": {
    "name": "ipython",
    "version": 3
   },
   "file_extension": ".py",
   "mimetype": "text/x-python",
   "name": "python",
   "nbconvert_exporter": "python",
   "pygments_lexer": "ipython3",
   "version": "3.11.6"
  }
 },
 "nbformat": 4,
 "nbformat_minor": 5
}
