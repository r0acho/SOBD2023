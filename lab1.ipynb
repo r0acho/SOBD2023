{
 "cells": [
  {
   "cell_type": "code",
   "execution_count": 1,
   "id": "d1a27aa6-b53c-45d7-88bf-b7d0ee93ad0c",
   "metadata": {},
   "outputs": [],
   "source": [
    "# Import other modules not related to PySpark\n",
    "import os\n",
    "import sys\n",
    "import pandas as pd\n",
    "from pandas import DataFrame\n",
    "import numpy as np\n",
    "import matplotlib.pyplot as plt\n",
    "import matplotlib.ticker as mtick\n",
    "import matplotlib\n",
    "from mpl_toolkits.mplot3d import Axes3D\n",
    "import math\n",
    "from IPython.core.interactiveshell import InteractiveShell\n",
    "from datetime import *\n",
    "import statistics as stats\n",
    "from functools import reduce\n",
    "import seaborn as sns\n",
    "\n",
    "# This helps auto print out the items without explixitly using 'print'\n",
    "InteractiveShell.ast_node_interactivity = \"all\" \n",
    "%matplotlib inline"
   ]
  },
  {
   "cell_type": "code",
   "execution_count": null,
   "id": "adf5ada3-042e-4ec6-ab0c-71ec6b072f8c",
   "metadata": {},
   "outputs": [],
   "source": [
    "# Import PySpark related modules\n",
    "import pyspark\n",
    "from pyspark.rdd import RDD\n",
    "from pyspark.sql import Row\n",
    "from pyspark.sql import DataFrame\n",
    "from pyspark.sql import SparkSession\n",
    "from pyspark.sql import SQLContext\n",
    "from pyspark.sql import functions\n",
    "from pyspark.sql import Window\n",
    "from pyspark.sql.functions import lit, desc, col, size, array_contains\\\n",
    ", isnan, udf, hour, array_min, array_max, countDistinct, lag, lead, avg, count, unix_timestamp\n",
    "from pyspark.sql.types import *\n",
    "from pyspark.ml.feature import VectorAssembler\n",
    "from pyspark.ml.stat import Correlation\n",
    "\n",
    "MAX_MEMORY = '8G'\n",
    "# Initialize a spark session.\n",
    "conf = pyspark.SparkConf().setMaster(\"local[*]\") \\\n",
    "        .set('spark.executor.heartbeatInterval', 60000) \\\n",
    "        .set('spark.network.timeout', 60000) \\\n",
    "        .set(\"spark.core.connection.ack.wait.timeout\", \"3600\") \\\n",
    "        .set(\"spark.executor.memory\", MAX_MEMORY) \\\n",
    "        .set(\"spark.driver.memory\", MAX_MEMORY)\n",
    "def init_spark():\n",
    "    spark = SparkSession \\\n",
    "        .builder \\\n",
    "        .appName(\"Lab_1_var_5\") \\\n",
    "        .config(conf=conf) \\\n",
    "        .getOrCreate()\n",
    "    return spark\n",
    "\n",
    "spark = init_spark()\n",
    "\n",
    "directory_path = \"data/\"\n",
    "\n",
    "file_list = [file for file in os.listdir(directory_path) if file.endswith(\".csv\")]\n",
    "\n",
    "# Чтение файлов и создание DataFrame с явным указанием разделителя\n",
    "dataframes = [spark.read.csv(os.path.join(directory_path, file), header=True, inferSchema=True, sep=';') for file in file_list]\n",
    "\n",
    "# Объединение DataFrame в один\n",
    "merged_dataframe = reduce(DataFrame.union, dataframes)\n",
    "\n",
    "# Вывод первых строк объединенного DataFrame\n",
    "merged_dataframe.limit(5).toPandas().head()"
   ]
  },
  {
   "cell_type": "code",
   "execution_count": 3,
   "id": "51a49819-1c42-4b1b-bffd-ebbaba29cb30",
   "metadata": {},
   "outputs": [
    {
     "name": "stdout",
     "output_type": "stream",
     "text": [
      "root\n",
      " |-- timestamp: timestamp (nullable = true)\n",
      " |-- site_id: integer (nullable = true)\n",
      " |-- period_id: integer (nullable = true)\n",
      " |-- actual_consumption: double (nullable = true)\n",
      " |-- actual_pv: double (nullable = true)\n",
      " |-- load_00: double (nullable = true)\n",
      " |-- load_01: double (nullable = true)\n",
      " |-- load_02: double (nullable = true)\n",
      " |-- load_03: double (nullable = true)\n",
      " |-- load_04: double (nullable = true)\n",
      " |-- load_05: double (nullable = true)\n",
      " |-- load_06: double (nullable = true)\n",
      " |-- load_07: double (nullable = true)\n",
      " |-- load_08: double (nullable = true)\n",
      " |-- load_09: double (nullable = true)\n",
      " |-- load_10: double (nullable = true)\n",
      " |-- load_11: double (nullable = true)\n",
      " |-- load_12: double (nullable = true)\n",
      " |-- load_13: double (nullable = true)\n",
      " |-- load_14: double (nullable = true)\n",
      " |-- load_15: double (nullable = true)\n",
      " |-- load_16: double (nullable = true)\n",
      " |-- load_17: double (nullable = true)\n",
      " |-- load_18: double (nullable = true)\n",
      " |-- load_19: double (nullable = true)\n",
      " |-- load_20: double (nullable = true)\n",
      " |-- load_21: double (nullable = true)\n",
      " |-- load_22: double (nullable = true)\n",
      " |-- load_23: double (nullable = true)\n",
      " |-- load_24: double (nullable = true)\n",
      " |-- load_25: double (nullable = true)\n",
      " |-- load_26: double (nullable = true)\n",
      " |-- load_27: double (nullable = true)\n",
      " |-- load_28: double (nullable = true)\n",
      " |-- load_29: double (nullable = true)\n",
      " |-- load_30: double (nullable = true)\n",
      " |-- load_31: double (nullable = true)\n",
      " |-- load_32: double (nullable = true)\n",
      " |-- load_33: double (nullable = true)\n",
      " |-- load_34: double (nullable = true)\n",
      " |-- load_35: double (nullable = true)\n",
      " |-- load_36: double (nullable = true)\n",
      " |-- load_37: double (nullable = true)\n",
      " |-- load_38: double (nullable = true)\n",
      " |-- load_39: double (nullable = true)\n",
      " |-- load_40: double (nullable = true)\n",
      " |-- load_41: double (nullable = true)\n",
      " |-- load_42: double (nullable = true)\n",
      " |-- load_43: double (nullable = true)\n",
      " |-- load_44: double (nullable = true)\n",
      " |-- load_45: double (nullable = true)\n",
      " |-- load_46: double (nullable = true)\n",
      " |-- load_47: double (nullable = true)\n",
      " |-- load_48: double (nullable = true)\n",
      " |-- load_49: double (nullable = true)\n",
      " |-- load_50: double (nullable = true)\n",
      " |-- load_51: double (nullable = true)\n",
      " |-- load_52: double (nullable = true)\n",
      " |-- load_53: double (nullable = true)\n",
      " |-- load_54: double (nullable = true)\n",
      " |-- load_55: double (nullable = true)\n",
      " |-- load_56: double (nullable = true)\n",
      " |-- load_57: double (nullable = true)\n",
      " |-- load_58: double (nullable = true)\n",
      " |-- load_59: double (nullable = true)\n",
      " |-- load_60: double (nullable = true)\n",
      " |-- load_61: double (nullable = true)\n",
      " |-- load_62: double (nullable = true)\n",
      " |-- load_63: double (nullable = true)\n",
      " |-- load_64: double (nullable = true)\n",
      " |-- load_65: double (nullable = true)\n",
      " |-- load_66: double (nullable = true)\n",
      " |-- load_67: double (nullable = true)\n",
      " |-- load_68: double (nullable = true)\n",
      " |-- load_69: double (nullable = true)\n",
      " |-- load_70: double (nullable = true)\n",
      " |-- load_71: double (nullable = true)\n",
      " |-- load_72: double (nullable = true)\n",
      " |-- load_73: double (nullable = true)\n",
      " |-- load_74: double (nullable = true)\n",
      " |-- load_75: double (nullable = true)\n",
      " |-- load_76: double (nullable = true)\n",
      " |-- load_77: double (nullable = true)\n",
      " |-- load_78: double (nullable = true)\n",
      " |-- load_79: double (nullable = true)\n",
      " |-- load_80: double (nullable = true)\n",
      " |-- load_81: double (nullable = true)\n",
      " |-- load_82: double (nullable = true)\n",
      " |-- load_83: double (nullable = true)\n",
      " |-- load_84: double (nullable = true)\n",
      " |-- load_85: double (nullable = true)\n",
      " |-- load_86: double (nullable = true)\n",
      " |-- load_87: double (nullable = true)\n",
      " |-- load_88: double (nullable = true)\n",
      " |-- load_89: double (nullable = true)\n",
      " |-- load_90: double (nullable = true)\n",
      " |-- load_91: double (nullable = true)\n",
      " |-- load_92: double (nullable = true)\n",
      " |-- load_93: double (nullable = true)\n",
      " |-- load_94: double (nullable = true)\n",
      " |-- load_95: double (nullable = true)\n",
      " |-- pv_00: double (nullable = true)\n",
      " |-- pv_01: double (nullable = true)\n",
      " |-- pv_02: double (nullable = true)\n",
      " |-- pv_03: double (nullable = true)\n",
      " |-- pv_04: double (nullable = true)\n",
      " |-- pv_05: double (nullable = true)\n",
      " |-- pv_06: double (nullable = true)\n",
      " |-- pv_07: double (nullable = true)\n",
      " |-- pv_08: double (nullable = true)\n",
      " |-- pv_09: double (nullable = true)\n",
      " |-- pv_10: double (nullable = true)\n",
      " |-- pv_11: double (nullable = true)\n",
      " |-- pv_12: double (nullable = true)\n",
      " |-- pv_13: double (nullable = true)\n",
      " |-- pv_14: double (nullable = true)\n",
      " |-- pv_15: double (nullable = true)\n",
      " |-- pv_16: double (nullable = true)\n",
      " |-- pv_17: double (nullable = true)\n",
      " |-- pv_18: double (nullable = true)\n",
      " |-- pv_19: double (nullable = true)\n",
      " |-- pv_20: double (nullable = true)\n",
      " |-- pv_21: double (nullable = true)\n",
      " |-- pv_22: double (nullable = true)\n",
      " |-- pv_23: double (nullable = true)\n",
      " |-- pv_24: double (nullable = true)\n",
      " |-- pv_25: double (nullable = true)\n",
      " |-- pv_26: double (nullable = true)\n",
      " |-- pv_27: double (nullable = true)\n",
      " |-- pv_28: double (nullable = true)\n",
      " |-- pv_29: double (nullable = true)\n",
      " |-- pv_30: double (nullable = true)\n",
      " |-- pv_31: double (nullable = true)\n",
      " |-- pv_32: double (nullable = true)\n",
      " |-- pv_33: double (nullable = true)\n",
      " |-- pv_34: double (nullable = true)\n",
      " |-- pv_35: double (nullable = true)\n",
      " |-- pv_36: double (nullable = true)\n",
      " |-- pv_37: double (nullable = true)\n",
      " |-- pv_38: double (nullable = true)\n",
      " |-- pv_39: double (nullable = true)\n",
      " |-- pv_40: double (nullable = true)\n",
      " |-- pv_41: double (nullable = true)\n",
      " |-- pv_42: double (nullable = true)\n",
      " |-- pv_43: double (nullable = true)\n",
      " |-- pv_44: double (nullable = true)\n",
      " |-- pv_45: double (nullable = true)\n",
      " |-- pv_46: double (nullable = true)\n",
      " |-- pv_47: double (nullable = true)\n",
      " |-- pv_48: double (nullable = true)\n",
      " |-- pv_49: double (nullable = true)\n",
      " |-- pv_50: double (nullable = true)\n",
      " |-- pv_51: double (nullable = true)\n",
      " |-- pv_52: double (nullable = true)\n",
      " |-- pv_53: double (nullable = true)\n",
      " |-- pv_54: double (nullable = true)\n",
      " |-- pv_55: double (nullable = true)\n",
      " |-- pv_56: double (nullable = true)\n",
      " |-- pv_57: double (nullable = true)\n",
      " |-- pv_58: double (nullable = true)\n",
      " |-- pv_59: double (nullable = true)\n",
      " |-- pv_60: double (nullable = true)\n",
      " |-- pv_61: double (nullable = true)\n",
      " |-- pv_62: double (nullable = true)\n",
      " |-- pv_63: double (nullable = true)\n",
      " |-- pv_64: double (nullable = true)\n",
      " |-- pv_65: double (nullable = true)\n",
      " |-- pv_66: double (nullable = true)\n",
      " |-- pv_67: double (nullable = true)\n",
      " |-- pv_68: double (nullable = true)\n",
      " |-- pv_69: double (nullable = true)\n",
      " |-- pv_70: double (nullable = true)\n",
      " |-- pv_71: double (nullable = true)\n",
      " |-- pv_72: double (nullable = true)\n",
      " |-- pv_73: double (nullable = true)\n",
      " |-- pv_74: double (nullable = true)\n",
      " |-- pv_75: double (nullable = true)\n",
      " |-- pv_76: double (nullable = true)\n",
      " |-- pv_77: double (nullable = true)\n",
      " |-- pv_78: double (nullable = true)\n",
      " |-- pv_79: double (nullable = true)\n",
      " |-- pv_80: double (nullable = true)\n",
      " |-- pv_81: double (nullable = true)\n",
      " |-- pv_82: double (nullable = true)\n",
      " |-- pv_83: double (nullable = true)\n",
      " |-- pv_84: double (nullable = true)\n",
      " |-- pv_85: double (nullable = true)\n",
      " |-- pv_86: double (nullable = true)\n",
      " |-- pv_87: double (nullable = true)\n",
      " |-- pv_88: double (nullable = true)\n",
      " |-- pv_89: double (nullable = true)\n",
      " |-- pv_90: double (nullable = true)\n",
      " |-- pv_91: double (nullable = true)\n",
      " |-- pv_92: double (nullable = true)\n",
      " |-- pv_93: double (nullable = true)\n",
      " |-- pv_94: double (nullable = true)\n",
      " |-- pv_95: double (nullable = true)\n",
      "\n"
     ]
    }
   ],
   "source": [
    "merged_dataframe.printSchema()"
   ]
  },
  {
   "cell_type": "code",
   "execution_count": 4,
   "id": "02ff13ea-6a72-4412-b501-27694772f620",
   "metadata": {},
   "outputs": [
    {
     "data": {
      "text/plain": [
       "962282"
      ]
     },
     "execution_count": 4,
     "metadata": {},
     "output_type": "execute_result"
    }
   ],
   "source": [
    "# Вывод количества строк до удаления пустых значений\n",
    "merged_dataframe.count()"
   ]
  },
  {
   "cell_type": "code",
   "execution_count": 5,
   "id": "98f11f76-6b4e-490e-b513-a9994cde65ac",
   "metadata": {},
   "outputs": [
    {
     "data": {
      "text/plain": [
       "962282"
      ]
     },
     "execution_count": 5,
     "metadata": {},
     "output_type": "execute_result"
    }
   ],
   "source": [
    "# Удаление строк с пропущенными значениями\n",
    "cleaned_dataframe = merged_dataframe.dropna()\n",
    "\n",
    "# Вывод количество строк после удаления пустых значений\n",
    "merged_dataframe.count()"
   ]
  },
  {
   "cell_type": "code",
   "execution_count": 6,
   "id": "c5b11d51-2e82-4369-b537-d9c5d5899b91",
   "metadata": {},
   "outputs": [
    {
     "data": {
      "text/plain": [
       "0"
      ]
     },
     "execution_count": 6,
     "metadata": {},
     "output_type": "execute_result"
    }
   ],
   "source": [
    "# Найти строки с пропущенными значениями в любом столбце\n",
    "na_rows_dataframe = merged_dataframe.filter(reduce(lambda x, y: x | y, (col(c).isNull() for c in merged_dataframe.columns)))\n",
    "\n",
    "# Вывести часть DataFrame с пропущенными значениями\n",
    "na_rows_dataframe.count()"
   ]
  },
  {
   "cell_type": "code",
   "execution_count": 7,
   "id": "754b9ee9-7e12-4b52-a9a2-d21e25129f5d",
   "metadata": {},
   "outputs": [
    {
     "data": {
      "text/plain": [
       "<Axes: >"
      ]
     },
     "execution_count": 7,
     "metadata": {},
     "output_type": "execute_result"
    },
    {
     "data": {
      "image/png": "[encoded data removed]",
      "text/plain": [
       "<Figure size 640x480 with 1 Axes>"
      ]
     },
     "metadata": {},
     "output_type": "display_data"
    }
   ],
   "source": [
    "dataframe_pandas = cleaned_dataframe.select('actual_consumption', 'actual_pv').toPandas()\n",
    "\n",
    "f_other = plt.plot()\n",
    "dataframe_pandas.boxplot(column=['actual_consumption'], figsize=(10,  10))"
   ]
  },
  {
   "cell_type": "code",
   "execution_count": 8,
   "id": "6beadbcd-12c2-46d5-aece-d90137c806e3",
   "metadata": {},
   "outputs": [
    {
     "data": {
      "text/plain": [
       "937250"
      ]
     },
     "execution_count": 8,
     "metadata": {},
     "output_type": "execute_result"
    }
   ],
   "source": [
    "# Рассчет квартилей\n",
    "quartiles = cleaned_dataframe.stat.approxQuantile(\"actual_consumption\", [0.25, 0.75], 0.0)\n",
    "\n",
    "# Рассчет межквартильного размаха\n",
    "IQR = quartiles[1] - quartiles[0]\n",
    "\n",
    "# Определение границ для определения выбросов\n",
    "lower_bound = quartiles[0] - 1.5 * IQR\n",
    "upper_bound = quartiles[1] + 1.5 * IQR\n",
    "\n",
    "# Удаление выбросов\n",
    "cleaned_dataframe = cleaned_dataframe.filter((col(\"actual_consumption\") >= lower_bound) & (col(\"actual_consumption\") <= upper_bound))\n",
    "cleaned_dataframe.count()"
   ]
  },
  {
   "cell_type": "code",
   "execution_count": 9,
   "id": "1d14c7f7-2f1c-4038-bd0b-a2158b024c41",
   "metadata": {},
   "outputs": [
    {
     "data": {
      "text/plain": [
       "<Axes: >"
      ]
     },
     "execution_count": 9,
     "metadata": {},
     "output_type": "execute_result"
    },
    {
     "data": {
      "image/png": "[encoded data removed]",
      "text/plain": [
       "<Figure size 640x480 with 1 Axes>"
      ]
     },
     "metadata": {},
     "output_type": "display_data"
    }
   ],
   "source": [
    "dataframe_pandas = cleaned_dataframe.select('actual_consumption', 'actual_pv').toPandas()\n",
    "\n",
    "f_other = plt.plot()\n",
    "dataframe_pandas.boxplot(column=['actual_consumption'], figsize=(10,  10))"
   ]
  },
  {
   "cell_type": "code",
   "execution_count": 10,
   "id": "a6a4bdde-88ac-4438-a6ae-33a58ecd2b89",
   "metadata": {},
   "outputs": [
    {
     "data": {
      "text/html": [
       "<div>\n",
       "<style scoped>\n",
       "    .dataframe tbody tr th:only-of-type {\n",
       "        vertical-align: middle;\n",
       "    }\n",
       "\n",
       "    .dataframe tbody tr th {\n",
       "        vertical-align: top;\n",
       "    }\n",
       "\n",
       "    .dataframe thead th {\n",
       "        text-align: right;\n",
       "    }\n",
       "</style>\n",
       "<table border=\"1\" class=\"dataframe\">\n",
       "  <thead>\n",
       "    <tr style=\"text-align: right;\">\n",
       "      <th></th>\n",
       "      <th>summary</th>\n",
       "      <th>site_id</th>\n",
       "      <th>period_id</th>\n",
       "      <th>actual_consumption</th>\n",
       "      <th>actual_pv</th>\n",
       "      <th>load_00</th>\n",
       "      <th>load_01</th>\n",
       "      <th>load_02</th>\n",
       "      <th>load_03</th>\n",
       "      <th>load_04</th>\n",
       "      <th>...</th>\n",
       "      <th>pv_86</th>\n",
       "      <th>pv_87</th>\n",
       "      <th>pv_88</th>\n",
       "      <th>pv_89</th>\n",
       "      <th>pv_90</th>\n",
       "      <th>pv_91</th>\n",
       "      <th>pv_92</th>\n",
       "      <th>pv_93</th>\n",
       "      <th>pv_94</th>\n",
       "      <th>pv_95</th>\n",
       "    </tr>\n",
       "  </thead>\n",
       "  <tbody>\n",
       "    <tr>\n",
       "      <th>0</th>\n",
       "      <td>count</td>\n",
       "      <td>937250</td>\n",
       "      <td>937250</td>\n",
       "      <td>937250</td>\n",
       "      <td>937250</td>\n",
       "      <td>937250</td>\n",
       "      <td>937250</td>\n",
       "      <td>937250</td>\n",
       "      <td>937250</td>\n",
       "      <td>937250</td>\n",
       "      <td>...</td>\n",
       "      <td>937250</td>\n",
       "      <td>937250</td>\n",
       "      <td>937250</td>\n",
       "      <td>937250</td>\n",
       "      <td>937250</td>\n",
       "      <td>937250</td>\n",
       "      <td>937250</td>\n",
       "      <td>937250</td>\n",
       "      <td>937250</td>\n",
       "      <td>937250</td>\n",
       "    </tr>\n",
       "    <tr>\n",
       "      <th>1</th>\n",
       "      <td>mean</td>\n",
       "      <td>8.346216057615363</td>\n",
       "      <td>43.637392371299015</td>\n",
       "      <td>76.29608426239884</td>\n",
       "      <td>44.22265404242653</td>\n",
       "      <td>76.64541092001288</td>\n",
       "      <td>76.91333041322417</td>\n",
       "      <td>77.16233108586778</td>\n",
       "      <td>77.40472196001014</td>\n",
       "      <td>77.63912441178658</td>\n",
       "      <td>...</td>\n",
       "      <td>44.956692242815095</td>\n",
       "      <td>44.792086910344814</td>\n",
       "      <td>44.63573050176393</td>\n",
       "      <td>44.48199781631874</td>\n",
       "      <td>44.331886713141365</td>\n",
       "      <td>44.186294440527206</td>\n",
       "      <td>44.0461375120001</td>\n",
       "      <td>43.912691389455354</td>\n",
       "      <td>43.78787755408679</td>\n",
       "      <td>43.67510209582759</td>\n",
       "    </tr>\n",
       "    <tr>\n",
       "      <th>2</th>\n",
       "      <td>stddev</td>\n",
       "      <td>4.314631433609098</td>\n",
       "      <td>32.05170928236231</td>\n",
       "      <td>72.81053285484741</td>\n",
       "      <td>99.05166827191897</td>\n",
       "      <td>73.24839399793221</td>\n",
       "      <td>73.73646287708942</td>\n",
       "      <td>74.25712465501798</td>\n",
       "      <td>74.79713031488632</td>\n",
       "      <td>75.3742520212786</td>\n",
       "      <td>...</td>\n",
       "      <td>94.2421379065009</td>\n",
       "      <td>93.9910803124323</td>\n",
       "      <td>93.7524599934208</td>\n",
       "      <td>93.5175342015883</td>\n",
       "      <td>93.286799046121</td>\n",
       "      <td>93.06419003088651</td>\n",
       "      <td>92.85731384021553</td>\n",
       "      <td>92.66925262309388</td>\n",
       "      <td>92.49831672898465</td>\n",
       "      <td>92.35360449404604</td>\n",
       "    </tr>\n",
       "    <tr>\n",
       "      <th>3</th>\n",
       "      <td>min</td>\n",
       "      <td>1</td>\n",
       "      <td>0</td>\n",
       "      <td>0.14690635762456802</td>\n",
       "      <td>0.0</td>\n",
       "      <td>-263.0548926545911</td>\n",
       "      <td>-246.1912322317578</td>\n",
       "      <td>-233.6445941427881</td>\n",
       "      <td>-218.45698555652248</td>\n",
       "      <td>-213.6772964753053</td>\n",
       "      <td>...</td>\n",
       "      <td>-9.389647857224844</td>\n",
       "      <td>-9.389647857222855</td>\n",
       "      <td>-9.389647857220595</td>\n",
       "      <td>-9.389647857219726</td>\n",
       "      <td>-9.389647857219241</td>\n",
       "      <td>-9.389647857219147</td>\n",
       "      <td>-9.389647857219076</td>\n",
       "      <td>-9.389647857218971</td>\n",
       "      <td>-9.389647857218957</td>\n",
       "      <td>-9.389647857218932</td>\n",
       "    </tr>\n",
       "    <tr>\n",
       "      <th>4</th>\n",
       "      <td>max</td>\n",
       "      <td>15</td>\n",
       "      <td>120</td>\n",
       "      <td>296.30518566316505</td>\n",
       "      <td>755.3993506760426</td>\n",
       "      <td>658.4492607170723</td>\n",
       "      <td>681.8835032763551</td>\n",
       "      <td>683.0263756645019</td>\n",
       "      <td>676.1435017729069</td>\n",
       "      <td>682.9575798114286</td>\n",
       "      <td>...</td>\n",
       "      <td>715.7096701768883</td>\n",
       "      <td>715.7096701768833</td>\n",
       "      <td>715.709670176884</td>\n",
       "      <td>715.709670176884</td>\n",
       "      <td>715.7096701768833</td>\n",
       "      <td>715.7096701768835</td>\n",
       "      <td>715.7096701768841</td>\n",
       "      <td>715.7096701768844</td>\n",
       "      <td>715.7096701768845</td>\n",
       "      <td>715.7096701768845</td>\n",
       "    </tr>\n",
       "  </tbody>\n",
       "</table>\n",
       "<p>5 rows × 197 columns</p>\n",
       "</div>"
      ],
      "text/plain": [
       "  summary            site_id           period_id   actual_consumption  \\\n",
       "0   count             937250              937250               937250   \n",
       "1    mean  8.346216057615363  43.637392371299015    76.29608426239884   \n",
       "2  stddev  4.314631433609098   32.05170928236231    72.81053285484741   \n",
       "3     min                  1                   0  0.14690635762456802   \n",
       "4     max                 15                 120   296.30518566316505   \n",
       "\n",
       "           actual_pv             load_00             load_01  \\\n",
       "0             937250              937250              937250   \n",
       "1  44.22265404242653   76.64541092001288   76.91333041322417   \n",
       "2  99.05166827191897   73.24839399793221   73.73646287708942   \n",
       "3                0.0  -263.0548926545911  -246.1912322317578   \n",
       "4  755.3993506760426   658.4492607170723   681.8835032763551   \n",
       "\n",
       "              load_02              load_03             load_04  ...  \\\n",
       "0              937250               937250              937250  ...   \n",
       "1   77.16233108586778    77.40472196001014   77.63912441178658  ...   \n",
       "2   74.25712465501798    74.79713031488632    75.3742520212786  ...   \n",
       "3  -233.6445941427881  -218.45698555652248  -213.6772964753053  ...   \n",
       "4   683.0263756645019    676.1435017729069   682.9575798114286  ...   \n",
       "\n",
       "                pv_86               pv_87               pv_88  \\\n",
       "0              937250              937250              937250   \n",
       "1  44.956692242815095  44.792086910344814   44.63573050176393   \n",
       "2    94.2421379065009    93.9910803124323    93.7524599934208   \n",
       "3  -9.389647857224844  -9.389647857222855  -9.389647857220595   \n",
       "4   715.7096701768883   715.7096701768833    715.709670176884   \n",
       "\n",
       "                pv_89               pv_90               pv_91  \\\n",
       "0              937250              937250              937250   \n",
       "1   44.48199781631874  44.331886713141365  44.186294440527206   \n",
       "2    93.5175342015883     93.286799046121   93.06419003088651   \n",
       "3  -9.389647857219726  -9.389647857219241  -9.389647857219147   \n",
       "4    715.709670176884   715.7096701768833   715.7096701768835   \n",
       "\n",
       "                pv_92               pv_93               pv_94  \\\n",
       "0              937250              937250              937250   \n",
       "1    44.0461375120001  43.912691389455354   43.78787755408679   \n",
       "2   92.85731384021553   92.66925262309388   92.49831672898465   \n",
       "3  -9.389647857219076  -9.389647857218971  -9.389647857218957   \n",
       "4   715.7096701768841   715.7096701768844   715.7096701768845   \n",
       "\n",
       "                pv_95  \n",
       "0              937250  \n",
       "1   43.67510209582759  \n",
       "2   92.35360449404604  \n",
       "3  -9.389647857218932  \n",
       "4   715.7096701768845  \n",
       "\n",
       "[5 rows x 197 columns]"
      ]
     },
     "execution_count": 10,
     "metadata": {},
     "output_type": "execute_result"
    }
   ],
   "source": [
    "# Расчет статистических показателей\n",
    "statistics_summary = cleaned_dataframe.describe()\n",
    "# Вывод сводной статистики\n",
    "statistics_summary.toPandas()"
   ]
  },
  {
   "cell_type": "code",
   "execution_count": 11,
   "id": "3eeeb91c-538c-4b5b-a03a-518451677ce9",
   "metadata": {},
   "outputs": [
    {
     "data": {
      "text/plain": [
       "<Figure size 800x600 with 0 Axes>"
      ]
     },
     "execution_count": 11,
     "metadata": {},
     "output_type": "execute_result"
    },
    {
     "data": {
      "text/plain": [
       "(array([251833.,  60442.,  59034.,  21034.,  14454.,  49995.,  45228.,\n",
       "         30051.,  50360.,  56441.,  43107.,  29400.,  19232.,  19397.,\n",
       "         19208.,  19881.,  18260.,  17622.,  14902.,  15445.,  15411.,\n",
       "         12297.,  11756.,  10923.,   8054.,   5887.,   5197.,   4503.,\n",
       "          4645.,   3251.]),\n",
       " array([1.46906358e-01, 1.00188490e+01, 1.98907916e+01, 2.97627343e+01,\n",
       "        3.96346769e+01, 4.95066196e+01, 5.93785622e+01, 6.92505049e+01,\n",
       "        7.91224475e+01, 8.89943901e+01, 9.88663328e+01, 1.08738275e+02,\n",
       "        1.18610218e+02, 1.28482161e+02, 1.38354103e+02, 1.48226046e+02,\n",
       "        1.58097989e+02, 1.67969931e+02, 1.77841874e+02, 1.87713817e+02,\n",
       "        1.97585759e+02, 2.07457702e+02, 2.17329645e+02, 2.27201587e+02,\n",
       "        2.37073530e+02, 2.46945472e+02, 2.56817415e+02, 2.66689358e+02,\n",
       "        2.76561300e+02, 2.86433243e+02, 2.96305186e+02]),\n",
       " <BarContainer object of 30 artists>)"
      ]
     },
     "execution_count": 11,
     "metadata": {},
     "output_type": "execute_result"
    },
    {
     "data": {
      "text/plain": [
       "Text(0.5, 1.0, 'Distribution of actual_consumption')"
      ]
     },
     "execution_count": 11,
     "metadata": {},
     "output_type": "execute_result"
    },
    {
     "data": {
      "text/plain": [
       "Text(0.5, 0, 'actual_consumption')"
      ]
     },
     "execution_count": 11,
     "metadata": {},
     "output_type": "execute_result"
    },
    {
     "data": {
      "text/plain": [
       "Text(0, 0.5, 'Frequency')"
      ]
     },
     "execution_count": 11,
     "metadata": {},
     "output_type": "execute_result"
    },
    {
     "data": {
      "image/png": "[encoded data removed]",
      "text/plain": [
       "<Figure size 800x600 with 1 Axes>"
      ]
     },
     "metadata": {},
     "output_type": "display_data"
    },
    {
     "data": {
      "text/plain": [
       "<Figure size 800x600 with 0 Axes>"
      ]
     },
     "execution_count": 11,
     "metadata": {},
     "output_type": "execute_result"
    },
    {
     "data": {
      "text/plain": [
       "(array([6.83836e+05, 6.35140e+04, 2.91590e+04, 2.65580e+04, 1.90620e+04,\n",
       "        1.41880e+04, 1.29630e+04, 1.32210e+04, 1.26780e+04, 1.11010e+04,\n",
       "        8.38200e+03, 6.47900e+03, 5.63800e+03, 4.72400e+03, 4.10400e+03,\n",
       "        3.30500e+03, 2.82100e+03, 2.41100e+03, 2.25800e+03, 2.19400e+03,\n",
       "        2.18200e+03, 1.86900e+03, 1.59000e+03, 1.17800e+03, 7.79000e+02,\n",
       "        5.01000e+02, 3.32000e+02, 1.51000e+02, 6.30000e+01, 9.00000e+00]),\n",
       " array([  0.        ,  25.17997836,  50.35995671,  75.53993507,\n",
       "        100.71991342, 125.89989178, 151.07987014, 176.25984849,\n",
       "        201.43982685, 226.6198052 , 251.79978356, 276.97976191,\n",
       "        302.15974027, 327.33971863, 352.51969698, 377.69967534,\n",
       "        402.87965369, 428.05963205, 453.23961041, 478.41958876,\n",
       "        503.59956712, 528.77954547, 553.95952383, 579.13950218,\n",
       "        604.31948054, 629.4994589 , 654.67943725, 679.85941561,\n",
       "        705.03939396, 730.21937232, 755.39935068]),\n",
       " <BarContainer object of 30 artists>)"
      ]
     },
     "execution_count": 11,
     "metadata": {},
     "output_type": "execute_result"
    },
    {
     "data": {
      "text/plain": [
       "Text(0.5, 1.0, 'Distribution of actual_pv')"
      ]
     },
     "execution_count": 11,
     "metadata": {},
     "output_type": "execute_result"
    },
    {
     "data": {
      "text/plain": [
       "Text(0.5, 0, 'actual_pv')"
      ]
     },
     "execution_count": 11,
     "metadata": {},
     "output_type": "execute_result"
    },
    {
     "data": {
      "text/plain": [
       "Text(0, 0.5, 'Frequency')"
      ]
     },
     "execution_count": 11,
     "metadata": {},
     "output_type": "execute_result"
    },
    {
     "data": {
      "image/png": "[encoded data removed]",
      "text/plain": [
       "<Figure size 800x600 with 1 Axes>"
      ]
     },
     "metadata": {},
     "output_type": "display_data"
    }
   ],
   "source": [
    "# Выберите признаки, для которых вы хотите построить распределение\n",
    "selected_features = ['actual_consumption', 'actual_pv'] \n",
    "\n",
    "# Преобразование PySpark DataFrame в Pandas DataFrame\n",
    "pandas_df = cleaned_dataframe.select(selected_features).toPandas()\n",
    "\n",
    "# Построение гистограмм для каждого выбранного признака\n",
    "for feature in selected_features:\n",
    "    plt.figure(figsize=(8, 6))\n",
    "    plt.hist(pandas_df[feature], bins=30, color='skyblue', edgecolor='black')\n",
    "    plt.title(f'Distribution of {feature}')\n",
    "    plt.xlabel(feature)\n",
    "    plt.ylabel('Frequency')\n",
    "    plt.show()"
   ]
  },
  {
   "cell_type": "code",
   "execution_count": 12,
   "id": "b93a9dd1-b6d1-4eb9-9311-355973e50a6c",
   "metadata": {},
   "outputs": [
    {
     "data": {
      "text/html": [
       "<div>\n",
       "<style scoped>\n",
       "    .dataframe tbody tr th:only-of-type {\n",
       "        vertical-align: middle;\n",
       "    }\n",
       "\n",
       "    .dataframe tbody tr th {\n",
       "        vertical-align: top;\n",
       "    }\n",
       "\n",
       "    .dataframe thead th {\n",
       "        text-align: right;\n",
       "    }\n",
       "</style>\n",
       "<table border=\"1\" class=\"dataframe\">\n",
       "  <thead>\n",
       "    <tr style=\"text-align: right;\">\n",
       "      <th></th>\n",
       "      <th>timestamp</th>\n",
       "      <th>site_id</th>\n",
       "      <th>period_id</th>\n",
       "      <th>actual_consumption</th>\n",
       "      <th>actual_pv</th>\n",
       "    </tr>\n",
       "  </thead>\n",
       "  <tbody>\n",
       "    <tr>\n",
       "      <th>0</th>\n",
       "      <td>1.000000</td>\n",
       "      <td>-0.073418</td>\n",
       "      <td>0.612583</td>\n",
       "      <td>0.118632</td>\n",
       "      <td>0.062304</td>\n",
       "    </tr>\n",
       "    <tr>\n",
       "      <th>1</th>\n",
       "      <td>-0.073418</td>\n",
       "      <td>1.000000</td>\n",
       "      <td>0.195226</td>\n",
       "      <td>0.097531</td>\n",
       "      <td>0.100411</td>\n",
       "    </tr>\n",
       "    <tr>\n",
       "      <th>2</th>\n",
       "      <td>0.612583</td>\n",
       "      <td>0.195226</td>\n",
       "      <td>1.000000</td>\n",
       "      <td>0.173963</td>\n",
       "      <td>0.093939</td>\n",
       "    </tr>\n",
       "    <tr>\n",
       "      <th>3</th>\n",
       "      <td>0.118632</td>\n",
       "      <td>0.097531</td>\n",
       "      <td>0.173963</td>\n",
       "      <td>1.000000</td>\n",
       "      <td>0.419026</td>\n",
       "    </tr>\n",
       "    <tr>\n",
       "      <th>4</th>\n",
       "      <td>0.062304</td>\n",
       "      <td>0.100411</td>\n",
       "      <td>0.093939</td>\n",
       "      <td>0.419026</td>\n",
       "      <td>1.000000</td>\n",
       "    </tr>\n",
       "  </tbody>\n",
       "</table>\n",
       "</div>"
      ],
      "text/plain": [
       "   timestamp   site_id  period_id  actual_consumption  actual_pv\n",
       "0   1.000000 -0.073418   0.612583            0.118632   0.062304\n",
       "1  -0.073418  1.000000   0.195226            0.097531   0.100411\n",
       "2   0.612583  0.195226   1.000000            0.173963   0.093939\n",
       "3   0.118632  0.097531   0.173963            1.000000   0.419026\n",
       "4   0.062304  0.100411   0.093939            0.419026   1.000000"
      ]
     },
     "execution_count": 12,
     "metadata": {},
     "output_type": "execute_result"
    }
   ],
   "source": [
    "# Преобразование столбца timestamp в метку времени Unix\n",
    "correlation_dataframe = cleaned_dataframe.withColumn(\"timestamp\", unix_timestamp(\"timestamp\").cast(DoubleType()))\n",
    "\n",
    "# Создаем VectorAssembler для объединения признаков в один вектор\n",
    "feature_cols = ['timestamp', 'site_id', 'period_id', 'actual_consumption', 'actual_pv']  \n",
    "vector_assembler = VectorAssembler(inputCols=feature_cols, outputCol=\"features\")\n",
    "\n",
    "# Применяем VectorAssembler к данным\n",
    "data = vector_assembler.transform(correlation_dataframe)\n",
    "\n",
    "# Вычисляем матрицу корреляции\n",
    "correlation_matrix = Correlation.corr(data, \"features\").head()\n",
    "correlation_array = correlation_matrix[0].toArray()\n",
    "\n",
    "# Создаем DataFrame из матрицы корреляции\n",
    "correlation_df = spark.createDataFrame(correlation_array.tolist(), feature_cols)\n",
    "\n",
    "# Выводим матрицу корреляции\n",
    "correlation_df.toPandas().head()"
   ]
  },
  {
   "cell_type": "code",
   "execution_count": 13,
   "id": "fe621db5-d205-4782-9f8a-9e51ad3b3cc2",
   "metadata": {},
   "outputs": [
    {
     "data": {
      "text/plain": [
       "<Figure size 1200x800 with 0 Axes>"
      ]
     },
     "execution_count": 13,
     "metadata": {},
     "output_type": "execute_result"
    },
    {
     "data": {
      "text/plain": [
       "<Axes: >"
      ]
     },
     "execution_count": 13,
     "metadata": {},
     "output_type": "execute_result"
    },
    {
     "data": {
      "text/plain": [
       "Text(0.5, 1.0, 'Матрица корреляции признаков')"
      ]
     },
     "execution_count": 13,
     "metadata": {},
     "output_type": "execute_result"
    },
    {
     "data": {
      "image/png": "[encoded data removed]",
      "text/plain": [
       "<Figure size 1200x800 with 2 Axes>"
      ]
     },
     "metadata": {},
     "output_type": "display_data"
    }
   ],
   "source": [
    "# Строим тепловую карту корреляции с использованием Seaborn\n",
    "correlation_matrix = correlation_df.toPandas().corr()\n",
    "plt.figure(figsize=(12, 8))\n",
    "sns.heatmap(correlation_matrix, annot=True, cmap=\"coolwarm\", fmt=\".2f\", linewidths=.5)\n",
    "plt.title('Матрица корреляции признаков')\n",
    "plt.show()"
   ]
  },
  {
   "cell_type": "code",
   "execution_count": 14,
   "id": "c4742e4d-cc12-4cde-8fb7-a8a93ff4c04d",
   "metadata": {},
   "outputs": [
    {
     "name": "stdout",
     "output_type": "stream",
     "text": [
      "+-------------------+------------------+------------------+------------------+------------------+\n",
      "|          timestamp|           load_00|       lag_load_00|      lead_load_00|       avg_load_00|\n",
      "+-------------------+------------------+------------------+------------------+------------------+\n",
      "|2017-10-21 23:45:00|  54.4986152487534|              NULL|25.772150237220846|              NULL|\n",
      "|2017-10-21 23:45:00|25.772150237220846|  54.4986152487534| 9.485006903820448|29.918590796598235|\n",
      "|2017-10-21 23:45:00| 9.485006903820448|25.772150237220846| 6.224997008085698|13.827384716375663|\n",
      "|2017-10-21 23:45:00| 6.224997008085698| 9.485006903820448| 54.11337219438211|23.274458702096084|\n",
      "|2017-10-21 23:30:00| 54.11337219438211| 6.224997008085698|25.504997606821835| 28.61445560309655|\n",
      "|2017-10-21 23:30:00|25.504997606821835| 54.11337219438211| 9.152194249568677|29.590188016924206|\n",
      "|2017-10-21 23:30:00| 9.152194249568677|25.504997606821835| 5.610520245340206|13.422570700576907|\n",
      "|2017-10-21 23:30:00| 5.610520245340206| 9.152194249568677| 51.69494564076606|22.152553378558313|\n",
      "|2017-10-21 23:15:00| 51.69494564076606| 5.610520245340206|25.424246606520185|27.576570830875482|\n",
      "|2017-10-21 23:15:00|25.424246606520185| 51.69494564076606| 8.971320432685742|28.696837559990666|\n",
      "|2017-10-21 23:15:00| 8.971320432685742|25.424246606520185|  5.88450248407416|13.426689841093363|\n",
      "|2017-10-21 23:15:00|  5.88450248407416| 8.971320432685742| 52.20044170415817| 22.35208820697269|\n",
      "+-------------------+------------------+------------------+------------------+------------------+\n",
      "\n"
     ]
    }
   ],
   "source": [
    "# Определяем окно сортировки по полю 'timestamp'\n",
    "windowSpec = Window.orderBy(desc(\"timestamp\"))\n",
    "\n",
    "# Добавляем столбцы с лагами и лидами для 'load_00'\n",
    "data_with_lag_lead = cleaned_dataframe.withColumn(\"lag_load_00\", lag(\"load_00\").over(windowSpec)) \\\n",
    "                            .withColumn(\"lead_load_00\", lead(\"load_00\").over(windowSpec))\n",
    "\n",
    "# Группируем данные по 'timestamp' и аггрегируем с использованием desc сортировки\n",
    "last_three_timestamps = data_with_lag_lead.groupBy(\"timestamp\") \\\n",
    "                                          .agg(count(\"timestamp\").alias(\"count\")) \\\n",
    "                                          .orderBy(desc(\"timestamp\")) \\\n",
    "                                          .limit(3)\n",
    "\n",
    "# Присоединяем последние три метки времени к данным\n",
    "latest_rows = data_with_lag_lead.join(last_three_timestamps, \"timestamp\")\n",
    "\n",
    "result = latest_rows.withColumn(\"avg_load_00\", (col(\"lag_load_00\") + col(\"lead_load_00\") + col(\"load_00\")) / 3) \\\n",
    "                          .select(\"timestamp\", \"load_00\", \"lag_load_00\", \"lead_load_00\", \"avg_load_00\")\n",
    "\n",
    "# Выводим результат\n",
    "result.show()"
   ]
  },
  {
   "cell_type": "code",
   "execution_count": 19,
   "id": "3a2f10fa-3dba-4137-812f-ab455fe6dfa9",
   "metadata": {},
   "outputs": [],
   "source": [
    "# Сохраним преобразованный датафрейм в csv-файл.\n",
    "cleaned_dataframe.coalesce(1).write.options(header='True', delimiter=';').csv('filtered_data/data')\n",
    "\n",
    "# Закрываем сессию Spark\n",
    "spark.stop()"
   ]
  },
  {
   "cell_type": "code",
   "execution_count": null,
   "id": "e6273198-0454-4c14-bf2e-42a0b467ee1a",
   "metadata": {},
   "outputs": [],
   "source": []
  }
 ],
 "metadata": {
  "kernelspec": {
   "display_name": "Python 3 (ipykernel)",
   "language": "python",
   "name": "python3"
  },
  "language_info": {
   "codemirror_mode": {
    "name": "ipython",
    "version": 3
   },
   "file_extension": ".py",
   "mimetype": "text/x-python",
   "name": "python",
   "nbconvert_exporter": "python",
   "pygments_lexer": "ipython3",
   "version": "3.11.6"
  }
 },
 "nbformat": 4,
 "nbformat_minor": 5
}
